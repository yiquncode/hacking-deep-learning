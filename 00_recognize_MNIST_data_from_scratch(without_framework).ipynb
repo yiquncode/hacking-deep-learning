{
  "nbformat": 4,
  "nbformat_minor": 0,
  "metadata": {
    "colab": {
      "name": "00.recognize-MNIST-data-from-scratch(without framework)",
      "provenance": [],
      "collapsed_sections": [],
      "machine_shape": "hm"
    },
    "kernelspec": {
      "name": "python3",
      "display_name": "Python 3"
    }
  },
  "cells": [
    {
      "cell_type": "code",
      "metadata": {
        "id": "oKeewLqD_a6_",
        "colab_type": "code",
        "colab": {}
      },
      "source": [
        "! pip install fastai2 utils python-mnist"
      ],
      "execution_count": 0,
      "outputs": []
    },
    {
      "cell_type": "code",
      "metadata": {
        "id": "xjO5ealV_MIE",
        "colab_type": "code",
        "colab": {}
      },
      "source": [
        "from fastai2.vision.all import *\n",
        "from utils import *\n",
        "from mnist import MNIST\n",
        "import numpy as np"
      ],
      "execution_count": 0,
      "outputs": []
    },
    {
      "cell_type": "code",
      "metadata": {
        "id": "Gh2n4IVF6eYJ",
        "colab_type": "code",
        "colab": {}
      },
      "source": [
        "# Download data\n",
        "! wget http://yann.lecun.com/exdb/mnist/train-images-idx3-ubyte.gz\n",
        "! wget http://yann.lecun.com/exdb/mnist/train-labels-idx1-ubyte.gz\n",
        "! wget http://yann.lecun.com/exdb/mnist/t10k-images-idx3-ubyte.gz\n",
        "! wget http://yann.lecun.com/exdb/mnist/t10k-labels-idx1-ubyte.gz\n",
        "! mkdir samples;mv t*-ubyte.gz samples;cd samples;gunzip t*-ubyte.gz"
      ],
      "execution_count": 0,
      "outputs": []
    },
    {
      "cell_type": "code",
      "metadata": {
        "id": "O9HGVLgI7kG4",
        "colab_type": "code",
        "outputId": "a78724a5-d390-4b56-b02c-ffe26da2bf29",
        "colab": {
          "base_uri": "https://localhost:8080/",
          "height": 34
        }
      },
      "source": [
        "# Load data\n",
        "mndata = MNIST('samples')\n",
        "images, labels = mndata.load_training()\n",
        "print(len(images[0]),labels[0])"
      ],
      "execution_count": 0,
      "outputs": [
        {
          "output_type": "stream",
          "text": [
            "784 5\n"
          ],
          "name": "stdout"
        }
      ]
    },
    {
      "cell_type": "code",
      "metadata": {
        "id": "8GtjGWo04cRR",
        "colab_type": "code",
        "outputId": "daed43e4-e9f1-4809-d3c9-76221fec170f",
        "colab": {
          "base_uri": "https://localhost:8080/",
          "height": 34
        }
      },
      "source": [
        "# One-hot label\n",
        "nb_classes = 10\n",
        "targets = np.array(labels).reshape(-1)\n",
        "train_y =  torch.tensor(np.eye(nb_classes)[targets]).float()\n",
        "train_y.shape"
      ],
      "execution_count": 0,
      "outputs": [
        {
          "output_type": "execute_result",
          "data": {
            "text/plain": [
              "torch.Size([60000, 10])"
            ]
          },
          "metadata": {
            "tags": []
          },
          "execution_count": 5
        }
      ]
    },
    {
      "cell_type": "code",
      "metadata": {
        "id": "FaLboh9W7krx",
        "colab_type": "code",
        "outputId": "42893e95-42b1-4497-ec30-36cbf87be499",
        "colab": {
          "base_uri": "https://localhost:8080/",
          "height": 34
        }
      },
      "source": [
        "# Normalize the data to keep gradients manageable\n",
        "train_x = tensor(images).float()/255\n",
        "train_x.shape"
      ],
      "execution_count": 0,
      "outputs": [
        {
          "output_type": "execute_result",
          "data": {
            "text/plain": [
              "torch.Size([60000, 784])"
            ]
          },
          "metadata": {
            "tags": []
          },
          "execution_count": 6
        }
      ]
    },
    {
      "cell_type": "code",
      "metadata": {
        "id": "UzMzXGhg-zcf",
        "colab_type": "code",
        "colab": {}
      },
      "source": [
        "# Move data to mini batch size\n",
        "dset = list(zip(train_x[:50000],train_y[:50000]))\n",
        "dl = DataLoader(dset, batch_size=200)\n",
        "\n",
        "valid_dset = list(zip(train_x[50000:],train_y[50000:]))\n",
        "valid_dl = DataLoader(valid_dset, batch_size=200)"
      ],
      "execution_count": 0,
      "outputs": []
    },
    {
      "cell_type": "code",
      "metadata": {
        "id": "YBuZZqYIIE_q",
        "colab_type": "code",
        "colab": {}
      },
      "source": [
        "def init_params(size, std=1.0):\n",
        "    return (torch.randn(size)*std).requires_grad_()\n",
        "\n",
        "# Although I written my own softmax function however that has some NaN value problems, I'm using nn.Softmax replace it.\n",
        "def softmax(layer_outputs):\n",
        "    softmax_outs = []\n",
        "    E = tensor([2.71828182846]) # calculate the exponential value\n",
        "    \n",
        "    for i in layer_outputs:\n",
        "        # normalize values\n",
        "        exp_values = E ** i\n",
        "        normalize_base = torch.sum(exp_values)\n",
        "        print(exp_values / normalize_base)\n",
        "        softmax_outs.append(exp_values / normalize_base)\n",
        "    return softmax_outs\n",
        "\n",
        "def simple_net(xb): \n",
        "    res = xb@w1 + b1\n",
        "    res = res.max(tensor(0.0))\n",
        "    res = res@w2 + b2\n",
        "    res = res.max(tensor(0.0))\n",
        "    m = nn.Softmax(dim=1)\n",
        "    return m(res)\n",
        "\n",
        "def mnist_loss(softmax_outputs,target_outputs):\n",
        "    loss = tensor([0.])\n",
        "    # cross-entropy\n",
        "    for i in range(len(softmax_outputs)):\n",
        "        eps=1e-7\n",
        "        loss += -(torch.log(softmax_outputs[i] @ target_outputs[i]+eps))\n",
        "\n",
        "    return loss/len(softmax_outputs)\n",
        "\n",
        "def calc_grad(xb, yb, model):\n",
        "    preds = model(xb)\n",
        "    loss = mnist_loss(preds, yb)\n",
        "    #print(loss)\n",
        "    loss.backward()\n",
        "\n",
        "def train_epoch(model, lr, params):\n",
        "    for xb,yb in dl:\n",
        "        calc_grad(xb, yb, model)\n",
        "        for p in params:\n",
        "            p.data -= p.grad*lr\n",
        "            p.grad.zero_()\n",
        "\n",
        "def batch_accuracy(xb, yb):\n",
        "    preds = simple_net(xb)\n",
        "    xy_set = list(zip(preds,yb))\n",
        "    pred_rights = 0\n",
        "\n",
        "    for x,y in xy_set:\n",
        "        #print(torch.argmax(x),torch.argmax(y))\n",
        "        if torch.argmax(x) == torch.argmax(y):\n",
        "            pred_rights += 1\n",
        "        \n",
        "    return tensor(pred_rights / len(xy_set))\n",
        "\n",
        "def validate_epoch():\n",
        "    accs = [batch_accuracy(xb, yb) for xb,yb in valid_dl]\n",
        "    return round(torch.stack(accs).mean().item(), 4)"
      ],
      "execution_count": 0,
      "outputs": []
    },
    {
      "cell_type": "code",
      "metadata": {
        "id": "XJpYsielBlgx",
        "colab_type": "code",
        "colab": {}
      },
      "source": [
        "w1 = init_params((28*28,30))\n",
        "b1 = init_params(30)\n",
        "w2 = init_params((30,10))\n",
        "b2 = init_params(10)"
      ],
      "execution_count": 0,
      "outputs": []
    },
    {
      "cell_type": "code",
      "metadata": {
        "id": "nGoMxSCeBA1U",
        "colab_type": "code",
        "outputId": "b20e8eb8-7e20-4e4d-ea75-831f67ef92c8",
        "colab": {
          "base_uri": "https://localhost:8080/",
          "height": 34
        }
      },
      "source": [
        "lr = 1.\n",
        "params = w1,b1,w2,b2\n",
        "train_epoch(simple_net, lr, params)\n",
        "validate_epoch()"
      ],
      "execution_count": 0,
      "outputs": [
        {
          "output_type": "execute_result",
          "data": {
            "text/plain": [
              "0.1125"
            ]
          },
          "metadata": {
            "tags": []
          },
          "execution_count": 189
        }
      ]
    },
    {
      "cell_type": "code",
      "metadata": {
        "id": "6cKD3D9CjiGy",
        "colab_type": "code",
        "outputId": "b9acc42a-7aa9-40b4-e086-18afb487a620",
        "colab": {
          "base_uri": "https://localhost:8080/",
          "height": 357
        }
      },
      "source": [
        "for i in range(20):\n",
        "    train_epoch(simple_net, lr, params)\n",
        "    print(validate_epoch())"
      ],
      "execution_count": 0,
      "outputs": [
        {
          "output_type": "stream",
          "text": [
            "0.1412\n",
            "0.1726\n",
            "0.1728\n",
            "0.1779\n",
            "0.1782\n",
            "0.1919\n",
            "0.2566\n",
            "0.2538\n",
            "0.2524\n",
            "0.2571\n",
            "0.2581\n",
            "0.2581\n",
            "0.3308\n",
            "0.3439\n",
            "0.3627\n",
            "0.3688\n",
            "0.435\n",
            "0.4237\n",
            "0.4773\n",
            "0.4789\n"
          ],
          "name": "stdout"
        }
      ]
    },
    {
      "cell_type": "code",
      "metadata": {
        "id": "dQxS6rSPTOKR",
        "colab_type": "code",
        "colab": {}
      },
      "source": [
        "# for xb,yb in dl:\n",
        "#     res = xb@w1 + b1\n",
        "#     res = res.max(tensor(0.0))\n",
        "#     res = res@w2 + b2\n",
        "#     res = res.max(tensor(0.0))\n",
        "#     s = softmax(res)\n",
        "#     #print(s)\n",
        "#     # kkk = mnist_loss(s,yb)\n",
        "#     # print(kkk)\n",
        "#     break"
      ],
      "execution_count": 0,
      "outputs": []
    },
    {
      "cell_type": "markdown",
      "metadata": {
        "id": "AWuQvIyw-D_k",
        "colab_type": "text"
      },
      "source": [
        "## References\n",
        "\n",
        "https://www.fast.ai/\n",
        "\n",
        "Data Source: http://yann.lecun.com/exdb/mnist/\n",
        "Y. LeCun and C. Cortes. Mnist handwritten digit database. AT&T Labs [Online]. \n",
        "\n",
        "[Application of Crack Identification Techniques for an Aging Concrete Bridge Inspection Using an Unmanned Aerial Vehicle](https://www.researchgate.net/publication/325663483_Application_of_Crack_Identification_Techniques_for_an_Aging_Concrete_Bridge_Inspection_Using_an_Unmanned_Aerial_Vehicle)\n",
        "\n",
        "[Extract images from idx3](https://stackoverflow.com/questions/40427435/extract-images-from-idx3-ubyte-file-or-gzip-via-python)\n",
        "\n",
        "\n",
        "https://discuss.pytorch.org/t/how-to-solve-the-loss-become-nan-because-of-using-torch-log/54499"
      ]
    }
  ]
}